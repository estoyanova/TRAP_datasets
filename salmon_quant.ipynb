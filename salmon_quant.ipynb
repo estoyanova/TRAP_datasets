{
 "cells": [
  {
   "cell_type": "code",
   "execution_count": null,
   "metadata": {},
   "outputs": [],
   "source": [
    "#!/bin/bash\n",
    "# this is my bash code for running Salmon on nhgalaxy //old\n",
    "for fn in rnaseq_fastq/03*;\n",
    "do\n",
    "samp=`basename ${fn}`\n",
    "echo \"Processing sample ${samp}\"\n",
    "~/Salmon-latest_linux_x86_64/bin/salmon quant -i R_ucsc_transcriptome_index -l A \\\n",
    "         -1 ${fn}/${samp}_R1_001.fastq.gz \\\n",
    "         -2 ${fn}/${samp}_R2_001.fastq.gz \\\n",
    "         -p 32 -o quants_R_ucsc/${samp}_quant\n",
    "done \n"
   ]
  },
  {
   "cell_type": "code",
   "execution_count": null,
   "metadata": {},
   "outputs": [],
   "source": [
    "# salmon is in its own environment for now. v 0.11.3\n",
    "conda activate salmon"
   ]
  },
  {
   "cell_type": "code",
   "execution_count": null,
   "metadata": {},
   "outputs": [],
   "source": [
    "# read a list of id for salmon quantification\n",
    "TRAP_id_list = \n",
    "# loop and see if they are paired end or single end, e.g. R1 only or R1 & R2\n",
    "fastq_path = \"/mnt/heintz-bambi1/FastQ/\" # all fastq's are in here\n",
    "# run SE salmon code on R1\n",
    "for id in TRAP_id_list\n",
    "    if id has R1 and R2\n",
    "        run PE salmon code\n",
    "    else\n",
    "        run SE salmon code\n",
    "salmon quant -i transcripts_index -l <LIBTYPE> -r reads.fq -o transcripts_quant\n",
    "# else run PE salmon code on R1 & R2\n",
    "salmon quant -i R_ucsc_transcriptome_index -l A -1 _R1_001.fastq.gz -2 _R2_001.fastq.gz -p 32 -o quants_R_ucsc/${samp}_quant"
   ]
  }
 ],
 "metadata": {
  "kernelspec": {
   "display_name": "Python 3",
   "language": "python",
   "name": "python3"
  },
  "language_info": {
   "codemirror_mode": {
    "name": "ipython",
    "version": 3
   },
   "file_extension": ".py",
   "mimetype": "text/x-python",
   "name": "python",
   "nbconvert_exporter": "python",
   "pygments_lexer": "ipython3",
   "version": "3.7.0"
  }
 },
 "nbformat": 4,
 "nbformat_minor": 2
}
